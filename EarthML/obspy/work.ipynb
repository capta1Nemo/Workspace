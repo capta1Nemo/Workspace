{
 "cells": [
  {
   "cell_type": "markdown",
   "metadata": {},
   "source": [
    "başlangıçta client ile japonyadaki bir depremin verisini kullandım inventory okumayı fıltrelemeyı ve matplotlib kullanmayı bu data üzerinde denedim. \n",
    "İkinci kısımda 6.8 gaziantep depremini kullanarak response removal yapmayı denedim. \n",
    "anlamadığım kısımları her bölümün başında not olarak yazdım.     "
   ]
  },
  {
   "cell_type": "code",
   "execution_count": null,
   "metadata": {},
   "outputs": [],
   "source": [
    "import obspy\n",
    "from obspy import read_inventory,UTCDateTime\n",
    "from obspy.clients.fdsn import Client\n",
    "from obspy.io.xseed import Parser\n",
    "from obspy.signal import PPSD\n",
    "import matplotlib.pyplot as plt"
   ]
  },
  {
   "cell_type": "code",
   "execution_count": null,
   "metadata": {},
   "outputs": [],
   "source": [
    "client= Client(\"IRIS\")\n",
    "t1 = UTCDateTime(\"2020-01-02T18:23:53.011303Z\")\n",
    "t2=t1+300 #5 dakika\n",
    "st= client.get_waveforms(\"G\", \"INU\", \"00\", \"BHZ\", t1, t2)\n"
   ]
  },
  {
   "cell_type": "code",
   "execution_count": null,
   "metadata": {},
   "outputs": [],
   "source": [
    "print(st[0].stats)\n",
    "print(st.plot())"
   ]
  },
  {
   "cell_type": "markdown",
   "metadata": {},
   "source": [
    "japonya depreminin inventory si"
   ]
  },
  {
   "cell_type": "code",
   "execution_count": null,
   "metadata": {},
   "outputs": [],
   "source": [
    "inventory= read_inventory(r\"/home/master/Desktop/Workspace/EarthML/obspy/data/inv_japan.xml\")\n",
    "print(inventory[0][0][0].response)\n",
    "inventory.plot_response(min_freq=0.001)#hangi frekanstan itibaren plotlanacağını belirliyor\n",
    "plt.show()"
   ]
  },
  {
   "cell_type": "code",
   "execution_count": null,
   "metadata": {},
   "outputs": [],
   "source": [
    "print(\"Displacement\")\n",
    "inventory.plot_response(min_freq=0.001,channel=\"BHZ\", output=\"DISP\")\n",
    "print(\"Velocity\")\n",
    "inventory.plot_response(0.001,channel=\"BHZ\", output=\"VEL\")\n",
    "print(\"Acceleration\")\n",
    "inventory.plot_response(0.001,channel=\"BHZ\", output=\"ACC\")\n",
    "plt.show()"
   ]
  },
  {
   "cell_type": "markdown",
   "metadata": {},
   "source": [
    "one tick per line neyi değiştiriyor anlayamadım "
   ]
  },
  {
   "cell_type": "code",
   "execution_count": null,
   "metadata": {},
   "outputs": [],
   "source": [
    "print(st[0].plot(type=\"dayplot\", interval=3, right_vertical_labels=True,\n",
    "vertical_scaling_range=6e5, one_tick_per_line=True,\n",
    "show_y_UTC_label=False,\n",
    "events={'min_magnitude': 4}))"
   ]
  },
  {
   "cell_type": "markdown",
   "metadata": {},
   "source": [
    "matplotlib"
   ]
  },
  {
   "cell_type": "code",
   "execution_count": null,
   "metadata": {},
   "outputs": [],
   "source": [
    "\n",
    "fig=plt.figure(figsize=(6,4))\n",
    "ax=fig.add_subplot(1,1,1)\n",
    "ax.plot(st[0].times('matplotlib'),st[0].data)\n",
    "ax.xaxis_date()\n",
    "fig.autofmt_xdate() #times('matplotlib) tarihlerini düzeltmek için gerekli\n",
    "plt.show()"
   ]
  },
  {
   "cell_type": "markdown",
   "metadata": {},
   "source": [
    "times('matplotlib') kullandıktan sonra tarihler halen doğru formatta olmuyor  "
   ]
  },
  {
   "cell_type": "code",
   "execution_count": null,
   "metadata": {},
   "outputs": [],
   "source": [
    "print(st[0].times(),'\\n')\n",
    "print(st[0].times('matplotlib'))"
   ]
  },
  {
   "cell_type": "markdown",
   "metadata": {},
   "source": [
    "filtering"
   ]
  },
  {
   "cell_type": "code",
   "execution_count": null,
   "metadata": {},
   "outputs": [],
   "source": [
    "st_sliced=st.slice(starttime=st[0].stats.starttime+60,endtime=st[0].stats.endtime-30)\n",
    "st_sliced_copy=st_sliced.copy()\n",
    "print(st_sliced_copy[0].data[2000:2050]) #datanın bir kısmı\n",
    "print(st_sliced_copy[0].plot())\n",
    "st_sliced_copy[0].spectrogram(log=True,cmap='inferno')\n",
    "st_sliced.normalize()\n",
    "st_sliced.detrend(type='constant') #polynomial linear ve simple da var\n",
    "st_sliced.taper(0.05,type=\"hann\") #başlangıç ve bitişleri aynı faza getirmek için?\n",
    "print(st_sliced[0].plot())\n",
    "st_sliced[0].spectrogram(log=True, cmap='inferno', dbscale=False)\n",
    "print(st_sliced[0].data[2000:2050])"
   ]
  },
  {
   "cell_type": "markdown",
   "metadata": {},
   "source": [
    "low high ve band pass (corners ne değiştiriyor anlamadım)"
   ]
  },
  {
   "cell_type": "code",
   "execution_count": null,
   "metadata": {},
   "outputs": [],
   "source": [
    "tr_filt=st[0].copy().detrend('constant')\n",
    "tr_filt.filter('lowpass',freq=0.5,corners=5,zerophase=True)\n",
    "st[0].plot()\n",
    "print(tr_filt.plot())"
   ]
  },
  {
   "cell_type": "code",
   "execution_count": null,
   "metadata": {},
   "outputs": [],
   "source": [
    "tr_filt=st[0].copy().detrend('constant').slice(starttime=st[0].stats.starttime+200,endtime=st[0].stats.starttime+230)\n",
    "for i in range (1):\n",
    "    tr_filt.filter('lowpass',freq=0.5,corners=1,zerophase=True)\n",
    "#st[0].plot()\n",
    "print(tr_filt.plot())"
   ]
  },
  {
   "cell_type": "code",
   "execution_count": null,
   "metadata": {},
   "outputs": [],
   "source": [
    "tr_filt=st[0].copy().detrend('constant')\n",
    "tr_filt.filter('highpass',freq=2.0,corners=5,zerophase=True)\n",
    "st[0].plot()\n",
    "print(tr_filt.plot())"
   ]
  },
  {
   "cell_type": "code",
   "execution_count": null,
   "metadata": {},
   "outputs": [],
   "source": [
    "tr_filt=st[0].copy().detrend('constant')\n",
    "tr_filt.filter('bandpass',freqmin=0.5,freqmax=2.0,corners=5,zerophase=True)\n",
    "st[0].plot()\n",
    "print(tr_filt.plot())"
   ]
  },
  {
   "cell_type": "markdown",
   "metadata": {},
   "source": [
    "downsampling (decimate)"
   ]
  },
  {
   "cell_type": "code",
   "execution_count": null,
   "metadata": {},
   "outputs": [],
   "source": [
    "import numpy as np\n",
    "from obspy import Trace, Stream\n",
    "tr = Trace(data=np.arange(10))\n",
    "st2 = Stream(traces=[tr])\n",
    "tr.stats.sampling_rate\n",
    "print(tr.data)\n",
    "tr.plot()\n",
    "st2.decimate(4, strict_length=False, no_filter=True)\n",
    "tr.stats.sampling_rate\n",
    "print(tr.data)\n",
    "print(tr.plot())"
   ]
  },
  {
   "cell_type": "code",
   "execution_count": null,
   "metadata": {},
   "outputs": [],
   "source": [
    "st_=st.copy()\n",
    "ti=st_[0].stats.starttime+80\n",
    "tf=st_[0].stats.starttime+120\n",
    "st_.plot(starttime=ti,endtime=tf)\n",
    "st_.decimate(factor=4,strict_length=False,no_filter=True)#burada no filter neyi değiştiriyor?\n",
    "print(st_.plot(starttime=ti,endtime=tf))"
   ]
  },
  {
   "cell_type": "code",
   "execution_count": null,
   "metadata": {},
   "outputs": [],
   "source": [
    "#orijinal ve downsapled datanın filtrelenmesinin karşılaştırılması\n",
    "def filt(st):\n",
    "    tr_filt=st[0].copy()\n",
    "    tr_filt.detrend('constant')\n",
    "    tr_filt.filter('lowpass',freq=1.0,corners=5,zerophase=True)\n",
    "    st[0].plot(starttime=ti,endtime=tf)\n",
    "    print(tr_filt.plot(starttime=ti,endtime=tf))\n",
    "filt(st)    \n",
    "filt(st_)"
   ]
  },
  {
   "cell_type": "markdown",
   "metadata": {},
   "source": [
    "ppsd (ne olduğunu anlamadım) "
   ]
  },
  {
   "cell_type": "code",
   "execution_count": null,
   "metadata": {},
   "outputs": [],
   "source": [
    "from obspy.signal import PPSD\n",
    "tr_p=st.select(id=\"G.INU.00.BHZ\")[0]\n",
    "print(tr_p)\n",
    "print(inventory)\n",
    "ppsd = PPSD(tr_p.stats, metadata=inventory,ppsd_length=300.0)\n",
    "ppsd.add(st)\n",
    "ppsd.plot()"
   ]
  },
  {
   "cell_type": "markdown",
   "metadata": {},
   "source": [
    "buradan sonra response removalla ilgili başka bir data üzerinden birşeyler denedim"
   ]
  },
  {
   "cell_type": "code",
   "execution_count": null,
   "metadata": {},
   "outputs": [],
   "source": [
    "import obspy\n",
    "from obspy import read,read_inventory,UTCDateTime\n",
    "from obspy.clients.fdsn import Client\n",
    "from obspy.io.xseed import Parser\n",
    "from obspy.signal import PPSD\n",
    "import matplotlib.pyplot as plt"
   ]
  },
  {
   "cell_type": "code",
   "execution_count": null,
   "metadata": {},
   "outputs": [],
   "source": [
    "st=read(r'/home/master/Desktop/Workspace/EarthML/obspy/data/erz.mseed')\n",
    "tr=st.select(component=\"Z\")[0]\n",
    "inv= read_inventory(r\"/home/master/Desktop/Workspace/EarthML/obspy/data/erz_inv.xml\")\n",
    "print(tr)\n",
    "print(inv)\n",
    "print(inv[0][0][0].response)"
   ]
  },
  {
   "cell_type": "markdown",
   "metadata": {},
   "source": [
    "burada plot_response dediğimizde velocity grafiğini çiziyor output=\"vel\" belirtilmemesine rağmen. Bunun nedeni ne? "
   ]
  },
  {
   "cell_type": "code",
   "execution_count": null,
   "metadata": {},
   "outputs": [],
   "source": [
    "inv.plot_response(min_freq=0.001,channel=\"BHZ\")\n",
    "plt.show()"
   ]
  },
  {
   "cell_type": "code",
   "execution_count": null,
   "metadata": {},
   "outputs": [],
   "source": [
    "print(tr.stats)\n",
    "tr.plot(color='red',bgcolor='black')\n",
    "plt.show()"
   ]
  },
  {
   "cell_type": "code",
   "execution_count": null,
   "metadata": {},
   "outputs": [],
   "source": [
    "st_new=st.copy().taper(0.10,type='hann').filter(\"bandpass\", freqmin=0.005,freqmax=1.0)\n",
    "st_new.plot(color='red',bgcolor='black')\n",
    "plt.show()"
   ]
  },
  {
   "cell_type": "markdown",
   "metadata": {},
   "source": [
    "bu kisimda sonda oluşan grafiğin düzgün olmasının sebebi overamplification mı oluyor?"
   ]
  },
  {
   "cell_type": "code",
   "execution_count": null,
   "metadata": {},
   "outputs": [],
   "source": [
    "st_response_removed=st.copy().taper(0.10,type='hann').remove_response(inventory=inv,output=\"VEL\")\n",
    "st_response_removed.filter(\"bandpass\", freqmin=0.005,freqmax=1,zerophase=True).plot(\n",
    "    color='red',bgcolor='black')\n",
    "plt.show()"
   ]
  },
  {
   "cell_type": "code",
   "execution_count": null,
   "metadata": {},
   "outputs": [],
   "source": [
    "# Define frequency domains of datas \n",
    "\n",
    "freqs = np.fft.rfftfreq(st[0].stats.npts, d=st[0].stats.delta)\n",
    "print(freqs)\n",
    "print(\"Frequency domain for st is between\",min(freqs),\"and\",max(freqs),\"\\n\")"
   ]
  },
  {
   "cell_type": "code",
   "execution_count": null,
   "metadata": {},
   "outputs": [],
   "source": [
    "pre_filt = (0.001, 0.005, 10.0, 20.0) #st nin frekans aralığından seçildi"
   ]
  },
  {
   "cell_type": "code",
   "execution_count": null,
   "metadata": {},
   "outputs": [],
   "source": [
    "st_response_removed=st.copy().remove_response(\n",
    "    inventory=inv,output=\"DISP\",pre_filt=pre_filt,taper=True,\n",
    "    taper_fraction=0.05,water_level=60, plot=True)[0]"
   ]
  },
  {
   "cell_type": "code",
   "execution_count": null,
   "metadata": {},
   "outputs": [],
   "source": [
    "tr_p=st.select(id=\"KO.ILIC..BHZ\")[0]\n",
    "print(tr_p)\n",
    "inventory=obspy.read_inventory(r'/home/master/Desktop/Workspace/EarthML/obspy/data/erz_ınv.xml')\n",
    "print(inventory)\n",
    "metadata=inventory.get_response(tr_p.id,tr_p.stats.starttime)\n",
    "print(metadata)\n",
    "ppsd = PPSD(tr_p.stats, metadata=inventory,ppsd_length=247.1)\n",
    "ppsd.add(st)\n",
    "ppsd.plot()"
   ]
  },
  {
   "cell_type": "code",
   "execution_count": null,
   "metadata": {},
   "outputs": [],
   "source": [
    "print(st.select(id='KO.ILIC..BHZ'))\n",
    "print(st)"
   ]
  },
  {
   "cell_type": "markdown",
   "metadata": {},
   "source": [
    "trigger\n"
   ]
  },
  {
   "cell_type": "code",
   "execution_count": null,
   "metadata": {},
   "outputs": [],
   "source": [
    "st.plot()\n",
    "plt.show()"
   ]
  },
  {
   "cell_type": "code",
   "execution_count": null,
   "metadata": {},
   "outputs": [],
   "source": [
    "i=1\n",
    "from obspy.signal.trigger import plot_trigger, classic_sta_lta ,trigger_onset\n",
    "df=st[i].stats.sampling_rate\n",
    "cft=classic_sta_lta(st[i].data, int(5 * df), int(10 * df))\n",
    "plot_trigger(st[i],cft,1.7,0.2)"
   ]
  },
  {
   "cell_type": "code",
   "execution_count": null,
   "metadata": {},
   "outputs": [],
   "source": [
    "onof=trigger_onset(cft, 1.7,0.2)\n",
    "print(onof.shape)"
   ]
  },
  {
   "cell_type": "markdown",
   "metadata": {},
   "source": [
    "determining absolute time of triggers\n"
   ]
  },
  {
   "cell_type": "code",
   "execution_count": null,
   "metadata": {},
   "outputs": [],
   "source": [
    "print(onof)"
   ]
  },
  {
   "cell_type": "code",
   "execution_count": null,
   "metadata": {},
   "outputs": [],
   "source": [
    "st[0].stats"
   ]
  },
  {
   "cell_type": "code",
   "execution_count": null,
   "metadata": {},
   "outputs": [],
   "source": [
    "sampling_rt=st[0].stats.sampling_rate\n",
    "time=st[0].stats.starttime+(onof[0,0]/sampling_rt)\n",
    "print(time)"
   ]
  },
  {
   "cell_type": "code",
   "execution_count": null,
   "metadata": {},
   "outputs": [],
   "source": [
    "detection_times=[]\n",
    "for i in np.arange(0, onof.shape[0]):\n",
    "    time=st[0].stats.starttime+(onof[i,0]/sampling_rt)\n",
    "    detection_times.append(time)"
   ]
  },
  {
   "cell_type": "code",
   "execution_count": null,
   "metadata": {},
   "outputs": [],
   "source": [
    "detection_times"
   ]
  },
  {
   "cell_type": "markdown",
   "metadata": {},
   "source": [
    "tamplate matching(sonra bakacağım)\n"
   ]
  },
  {
   "cell_type": "code",
   "execution_count": null,
   "metadata": {},
   "outputs": [],
   "source": [
    "fs=1/1000\n",
    "y = np.arange(0, 1+fs, fs)\n",
    "s=np.concatenate([np.zeros(400),np.ones(100),np.zeros(501)])\n",
    "plt.plot(y,s)\n",
    "plt.ylim(0,2)\n",
    "plt.show()"
   ]
  },
  {
   "cell_type": "code",
   "execution_count": null,
   "metadata": {},
   "outputs": [],
   "source": [
    "import numpy as np\n",
    "nl= 0.4\n",
    "n= np.sqrt(nl)*(np.random.rand(1001))\n",
    "r= s+n\n",
    "plt.plot(y,r)\n",
    "plt.ylim(0,2)"
   ]
  },
  {
   "cell_type": "code",
   "execution_count": null,
   "metadata": {},
   "outputs": [],
   "source": [
    "import logging"
   ]
  }
 ],
 "metadata": {
  "kernelspec": {
   "display_name": ".venv",
   "language": "python",
   "name": "python3"
  },
  "language_info": {
   "codemirror_mode": {
    "name": "ipython",
    "version": 3
   },
   "file_extension": ".py",
   "mimetype": "text/x-python",
   "name": "python",
   "nbconvert_exporter": "python",
   "pygments_lexer": "ipython3",
   "version": "3.11.9"
  }
 },
 "nbformat": 4,
 "nbformat_minor": 2
}
